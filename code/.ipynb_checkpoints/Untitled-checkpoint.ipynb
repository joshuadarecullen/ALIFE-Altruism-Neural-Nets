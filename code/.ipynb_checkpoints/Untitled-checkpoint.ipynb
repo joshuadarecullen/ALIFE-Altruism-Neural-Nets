{
 "cells": [
  {
   "cell_type": "code",
   "execution_count": 75,
   "id": "4afd11cd",
   "metadata": {},
   "outputs": [
    {
     "data": {
      "text/plain": [
       "nan"
      ]
     },
     "execution_count": 75,
     "metadata": {},
     "output_type": "execute_result"
    }
   ],
   "source": [
    "import numpy as np\n",
    "\n",
    "np.interp(1000000000, [-np.inf,np.inf], [0,1])"
   ]
  },
  {
   "cell_type": "code",
   "execution_count": 66,
   "id": "32ebe537",
   "metadata": {},
   "outputs": [
    {
     "data": {
      "text/plain": [
       "3.6"
      ]
     },
     "execution_count": 66,
     "metadata": {},
     "output_type": "execute_result"
    }
   ],
   "source": [
    "0 + np.random.randint(20) * 0.1"
   ]
  },
  {
   "cell_type": "code",
   "execution_count": 28,
   "id": "3d24fe37",
   "metadata": {},
   "outputs": [
    {
     "name": "stdout",
     "output_type": "stream",
     "text": [
      "hey\n"
     ]
    }
   ],
   "source": [
    "agent = np.array([1])\n",
    "\n",
    "if len(agent):\n",
    "    print('hey')"
   ]
  },
  {
   "cell_type": "code",
   "execution_count": 54,
   "id": "58205882",
   "metadata": {},
   "outputs": [
    {
     "data": {
      "text/plain": [
       "array([ 0.11703659, -0.11096419,  0.1952484 , -0.25442827,  0.30642733,\n",
       "       -0.59004942, -0.47716633, -0.78510016, -0.00641   , -0.62674304,\n",
       "       -0.97554565,  0.87668335, -0.4908984 ,  0.1458639 , -0.51928186,\n",
       "       -0.87152829,  0.82267985,  0.6591859 ,  0.63873957,  0.93441398])"
      ]
     },
     "execution_count": 54,
     "metadata": {},
     "output_type": "execute_result"
    }
   ],
   "source": [
    "np.random.uniform(-1,1, 20)"
   ]
  },
  {
   "cell_type": "code",
   "execution_count": null,
   "id": "f926de1b",
   "metadata": {},
   "outputs": [],
   "source": []
  }
 ],
 "metadata": {
  "kernelspec": {
   "display_name": "Python 3 (ipykernel)",
   "language": "python",
   "name": "python3"
  },
  "language_info": {
   "codemirror_mode": {
    "name": "ipython",
    "version": 3
   },
   "file_extension": ".py",
   "mimetype": "text/x-python",
   "name": "python",
   "nbconvert_exporter": "python",
   "pygments_lexer": "ipython3",
   "version": "3.10.6"
  }
 },
 "nbformat": 4,
 "nbformat_minor": 5
}
